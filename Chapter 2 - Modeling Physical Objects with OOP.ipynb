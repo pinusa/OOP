{
 "cells": [
  {
   "cell_type": "markdown",
   "id": "e1ceacee",
   "metadata": {},
   "source": [
    "Outline:\n",
    "- general concepts of OOP\n",
    "- classes as the basis of writing OOP code\n",
    "- how the elements of a class work tgt\n",
    "- procedural as OOP\n",
    "- how to create an object from a class"
   ]
  },
  {
   "cell_type": "markdown",
   "id": "1b4aa32a",
   "metadata": {},
   "source": [
    "# Building Software Models of Physical Objects\n",
    "\n",
    "- Object's attributes (state) and functions (behaviour)\n",
    "- State: data that the object remembers\n",
    "- Behaviour: actions that the object can do."
   ]
  },
  {
   "cell_type": "markdown",
   "id": "8b34f70d",
   "metadata": {},
   "source": [
    "## Light switch"
   ]
  },
  {
   "cell_type": "markdown",
   "id": "1fae6379",
   "metadata": {},
   "source": [
    "### Procedural"
   ]
  },
  {
   "cell_type": "code",
   "execution_count": 2,
   "id": "f1ba993f",
   "metadata": {},
   "outputs": [
    {
     "name": "stdout",
     "output_type": "stream",
     "text": [
      "False\n",
      "True\n",
      "False\n",
      "True\n"
     ]
    }
   ],
   "source": [
    "# Procedural light switch\n",
    "\n",
    "# 1. turn on\n",
    "def turnon():\n",
    "    global switchIsOn\n",
    "    #turn the light on\n",
    "    switchIsOn = True\n",
    "    \n",
    "# 2. turn off\n",
    "def turnoff():\n",
    "    global switchIsOn\n",
    "    #turn the light off\n",
    "    switchIsOn = False\n",
    "    \n",
    "# 3. main code\n",
    "switchIsOn = False # a global Boolean variable\n",
    "\n",
    "# 4. test code\n",
    "print(switchIsOn)\n",
    "turnon()\n",
    "print(switchIsOn)\n",
    "turnoff()\n",
    "print(switchIsOn)\n",
    "turnon()\n",
    "print(switchIsOn)"
   ]
  },
  {
   "cell_type": "markdown",
   "id": "245d8d43",
   "metadata": {},
   "source": [
    "### object-oriented (as a class)"
   ]
  },
  {
   "cell_type": "code",
   "execution_count": 9,
   "id": "a7482dee",
   "metadata": {},
   "outputs": [],
   "source": [
    "class LightSwitch():\n",
    "    def __init__(self):\n",
    "        self.switchIsOn = False\n",
    "        \n",
    "    def turnOn(self):\n",
    "        #turn the switch on\n",
    "        self.switchIsOn = True\n",
    "    \n",
    "    def turnOff(self):\n",
    "        #turn the switch off\n",
    "        self.switchIsOn = False\n",
    "    \n",
    "    def show(self): #added for testing\n",
    "        print(self.switchIsOn)"
   ]
  },
  {
   "cell_type": "markdown",
   "id": "69856397",
   "metadata": {},
   "source": [
    "If you write a code of a class and run it, nothing happens. There's only functions but no function calls. The code below says:\n",
    "\n",
    "find the LightSwitch class, create a LightSwitch object from that class, and assign the resulting object to the variable oLightSwitch."
   ]
  },
  {
   "cell_type": "code",
   "execution_count": 11,
   "id": "48dafb5b",
   "metadata": {},
   "outputs": [],
   "source": [
    "oLightSwitch = LightSwitch()"
   ]
  },
  {
   "cell_type": "markdown",
   "id": "a6ea34b2",
   "metadata": {},
   "source": [
    "<b> Instantiation: the process of creating an object from a class.</b>\n",
    "\n",
    "the LightSwitch object is an instance of the LightSwitch class."
   ]
  },
  {
   "cell_type": "markdown",
   "id": "1278d952",
   "metadata": {},
   "source": [
    "Calling methods of an object"
   ]
  },
  {
   "cell_type": "code",
   "execution_count": 14,
   "id": "b5d35651",
   "metadata": {},
   "outputs": [
    {
     "name": "stdout",
     "output_type": "stream",
     "text": [
      "True\n",
      "True\n"
     ]
    }
   ],
   "source": [
    "#<object>.<methodName>(<any arguments>)\n",
    "oLightSwitch.show()\n",
    "oLightSwitch.turnOn()\n",
    "oLightSwitch.show()"
   ]
  }
 ],
 "metadata": {
  "kernelspec": {
   "display_name": "Python 3 (ipykernel)",
   "language": "python",
   "name": "python3"
  },
  "language_info": {
   "codemirror_mode": {
    "name": "ipython",
    "version": 3
   },
   "file_extension": ".py",
   "mimetype": "text/x-python",
   "name": "python",
   "nbconvert_exporter": "python",
   "pygments_lexer": "ipython3",
   "version": "3.8.8"
  },
  "toc": {
   "base_numbering": 1,
   "nav_menu": {},
   "number_sections": true,
   "sideBar": true,
   "skip_h1_title": false,
   "title_cell": "Table of Contents",
   "title_sidebar": "Contents",
   "toc_cell": false,
   "toc_position": {},
   "toc_section_display": true,
   "toc_window_display": true
  },
  "varInspector": {
   "cols": {
    "lenName": 16,
    "lenType": 16,
    "lenVar": 40
   },
   "kernels_config": {
    "python": {
     "delete_cmd_postfix": "",
     "delete_cmd_prefix": "del ",
     "library": "var_list.py",
     "varRefreshCmd": "print(var_dic_list())"
    },
    "r": {
     "delete_cmd_postfix": ") ",
     "delete_cmd_prefix": "rm(",
     "library": "var_list.r",
     "varRefreshCmd": "cat(var_dic_list()) "
    }
   },
   "types_to_exclude": [
    "module",
    "function",
    "builtin_function_or_method",
    "instance",
    "_Feature"
   ],
   "window_display": false
  }
 },
 "nbformat": 4,
 "nbformat_minor": 5
}
