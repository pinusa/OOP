{
 "cells": [
  {
   "cell_type": "markdown",
   "id": "761fe5f4",
   "metadata": {},
   "source": [
    "Outline:\n",
    "- general concepts of OOP\n",
    "- classes as the basis of writing OOP code\n",
    "- how the elements of a class work tgt\n",
    "- procedural as OOP\n",
    "- how to create an object from a class"
   ]
  },
  {
   "cell_type": "markdown",
   "id": "9bd45ad0",
   "metadata": {},
   "source": [
    "# Building Software Models of Physical Objects\n",
    "\n",
    "- Object's attributes (state) and functions (behaviour)\n",
    "- State: data that the object remembers\n",
    "- Behaviour: actions that the object can do."
   ]
  },
  {
   "cell_type": "markdown",
   "id": "b0b3ea98",
   "metadata": {},
   "source": [
    "## Light switch"
   ]
  },
  {
   "cell_type": "markdown",
   "id": "8eedd776",
   "metadata": {},
   "source": [
    "### Procedural"
   ]
  },
  {
   "cell_type": "code",
   "execution_count": 2,
   "id": "a4db424f",
   "metadata": {},
   "outputs": [
    {
     "name": "stdout",
     "output_type": "stream",
     "text": [
      "False\n",
      "True\n",
      "False\n",
      "True\n"
     ]
    }
   ],
   "source": [
    "# Procedural light switch\n",
    "\n",
    "# 1. turn on\n",
    "def turnon():\n",
    "    global switchIsOn\n",
    "    #turn the light on\n",
    "    switchIsOn = True\n",
    "    \n",
    "# 2. turn off\n",
    "def turnoff():\n",
    "    global switchIsOn\n",
    "    #turn the light off\n",
    "    switchIsOn = False\n",
    "    \n",
    "# 3. main code\n",
    "switchIsOn = False # a global Boolean variable\n",
    "\n",
    "# 4. test code\n",
    "print(switchIsOn)\n",
    "turnon()\n",
    "print(switchIsOn)\n",
    "turnoff()\n",
    "print(switchIsOn)\n",
    "turnon()\n",
    "print(switchIsOn)"
   ]
  },
  {
   "cell_type": "markdown",
   "id": "bc209009",
   "metadata": {},
   "source": [
    "### object-oriented (as a class)"
   ]
  },
  {
   "cell_type": "code",
   "execution_count": 3,
   "id": "a149c0b3",
   "metadata": {},
   "outputs": [],
   "source": [
    "class LightSwitch():\n",
    "    def __init__(self):\n",
    "        self.switchIsOn = False\n",
    "        \n",
    "    def turnOn(self):\n",
    "        #turn the switch on\n",
    "        self.switchIsOn = True\n",
    "    \n",
    "    def turnOff(self):\n",
    "        #turn the switch off\n",
    "        self.switchIsOn = False"
   ]
  },
  {
   "cell_type": "markdown",
   "id": "30325cdb",
   "metadata": {},
   "source": [
    "If you write a code of a class and run it, nothing happens. There's only functions but no function calls. The code below says:\n",
    "\n",
    "find the LightSwitch class, create a LightSwitch object from that class, and assign the resulting object to the variable oLightSwitch."
   ]
  },
  {
   "cell_type": "code",
   "execution_count": 4,
   "id": "988d2416",
   "metadata": {},
   "outputs": [],
   "source": [
    "oLightSwitch = LightSwitch()"
   ]
  },
  {
   "cell_type": "markdown",
   "id": "3564f244",
   "metadata": {},
   "source": [
    "<b> Instantiation: the process of creating an object from a class.</b>\n",
    "\n",
    "the LightSwitch object is an instance of the LightSwitch class."
   ]
  },
  {
   "cell_type": "markdown",
   "id": "7202a2c0",
   "metadata": {},
   "source": [
    "## Writing a Class in Python"
   ]
  },
  {
   "cell_type": "code",
   "execution_count": null,
   "id": "bc1f662e",
   "metadata": {},
   "outputs": [],
   "source": []
  }
 ],
 "metadata": {
  "kernelspec": {
   "display_name": "Python 3 (ipykernel)",
   "language": "python",
   "name": "python3"
  },
  "language_info": {
   "codemirror_mode": {
    "name": "ipython",
    "version": 3
   },
   "file_extension": ".py",
   "mimetype": "text/x-python",
   "name": "python",
   "nbconvert_exporter": "python",
   "pygments_lexer": "ipython3",
   "version": "3.8.8"
  },
  "toc": {
   "base_numbering": 1,
   "nav_menu": {},
   "number_sections": true,
   "sideBar": true,
   "skip_h1_title": false,
   "title_cell": "Table of Contents",
   "title_sidebar": "Contents",
   "toc_cell": false,
   "toc_position": {},
   "toc_section_display": true,
   "toc_window_display": true
  },
  "varInspector": {
   "cols": {
    "lenName": 16,
    "lenType": 16,
    "lenVar": 40
   },
   "kernels_config": {
    "python": {
     "delete_cmd_postfix": "",
     "delete_cmd_prefix": "del ",
     "library": "var_list.py",
     "varRefreshCmd": "print(var_dic_list())"
    },
    "r": {
     "delete_cmd_postfix": ") ",
     "delete_cmd_prefix": "rm(",
     "library": "var_list.r",
     "varRefreshCmd": "cat(var_dic_list()) "
    }
   },
   "types_to_exclude": [
    "module",
    "function",
    "builtin_function_or_method",
    "instance",
    "_Feature"
   ],
   "window_display": false
  }
 },
 "nbformat": 4,
 "nbformat_minor": 5
}
