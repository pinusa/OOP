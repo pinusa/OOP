{
 "cells": [
  {
   "cell_type": "markdown",
   "id": "e1ceacee",
   "metadata": {},
   "source": [
    "Outline:\n",
    "- general concepts of OOP\n",
    "- classes as the basis of writing OOP code\n",
    "- how the elements of a class work tgt\n",
    "- procedural as OOP\n",
    "- how to create an object from a class"
   ]
  },
  {
   "cell_type": "markdown",
   "id": "1b4aa32a",
   "metadata": {},
   "source": [
    "# Building Software Models of Physical Objects\n",
    "\n",
    "- Object's attributes (state) and functions (behaviour)\n",
    "- State: data that the object remembers\n",
    "- Behaviour: actions that the object can do."
   ]
  },
  {
   "cell_type": "markdown",
   "id": "8b34f70d",
   "metadata": {},
   "source": [
    "## Light switch"
   ]
  },
  {
   "cell_type": "markdown",
   "id": "1fae6379",
   "metadata": {},
   "source": [
    "### Procedural"
   ]
  },
  {
   "cell_type": "code",
   "execution_count": 2,
   "id": "f1ba993f",
   "metadata": {},
   "outputs": [
    {
     "name": "stdout",
     "output_type": "stream",
     "text": [
      "False\n",
      "True\n",
      "False\n",
      "True\n"
     ]
    }
   ],
   "source": [
    "# Procedural light switch\n",
    "\n",
    "# 1. turn on\n",
    "def turnon():\n",
    "    global switchIsOn\n",
    "    #turn the light on\n",
    "    switchIsOn = True\n",
    "    \n",
    "# 2. turn off\n",
    "def turnoff():\n",
    "    global switchIsOn\n",
    "    #turn the light off\n",
    "    switchIsOn = False\n",
    "    \n",
    "# 3. main code\n",
    "switchIsOn = False # a global Boolean variable\n",
    "\n",
    "# 4. test code\n",
    "print(switchIsOn)\n",
    "turnon()\n",
    "print(switchIsOn)\n",
    "turnoff()\n",
    "print(switchIsOn)\n",
    "turnon()\n",
    "print(switchIsOn)"
   ]
  },
  {
   "cell_type": "markdown",
   "id": "245d8d43",
   "metadata": {},
   "source": [
    "### object-oriented (as a class)"
   ]
  },
  {
   "cell_type": "code",
   "execution_count": 9,
   "id": "a7482dee",
   "metadata": {},
   "outputs": [],
   "source": [
    "class LightSwitch():\n",
    "    def __init__(self):\n",
    "        self.switchIsOn = False\n",
    "        \n",
    "    def turnOn(self):\n",
    "        #turn the switch on\n",
    "        self.switchIsOn = True\n",
    "    \n",
    "    def turnOff(self):\n",
    "        #turn the switch off\n",
    "        self.switchIsOn = False\n",
    "    \n",
    "    def show(self): #added for testing\n",
    "        print(self.switchIsOn)"
   ]
  },
  {
   "cell_type": "markdown",
   "id": "69856397",
   "metadata": {},
   "source": [
    "If you write a code of a class and run it, nothing happens. There's only functions but no function calls. The code below says:\n",
    "\n",
    "find the LightSwitch class, create a LightSwitch object from that class, and assign the resulting object to the variable oLightSwitch."
   ]
  },
  {
   "cell_type": "code",
   "execution_count": 11,
   "id": "48dafb5b",
   "metadata": {},
   "outputs": [],
   "source": [
    "oLightSwitch = LightSwitch()"
   ]
  },
  {
   "cell_type": "markdown",
   "id": "a6ea34b2",
   "metadata": {},
   "source": [
    "<b> Instantiation: the process of creating an object from a class.</b>\n",
    "\n",
    "the LightSwitch object is an instance of the LightSwitch class."
   ]
  },
  {
   "cell_type": "markdown",
   "id": "1278d952",
   "metadata": {},
   "source": [
    "### Calling methods of an object"
   ]
  },
  {
   "cell_type": "code",
   "execution_count": 14,
   "id": "b5d35651",
   "metadata": {},
   "outputs": [
    {
     "name": "stdout",
     "output_type": "stream",
     "text": [
      "True\n",
      "True\n"
     ]
    }
   ],
   "source": [
    "#<object>.<methodName>(<any arguments>)\n",
    "oLightSwitch.show()\n",
    "oLightSwitch.turnOn()\n",
    "oLightSwitch.show()"
   ]
  },
  {
   "cell_type": "code",
   "execution_count": 7,
   "id": "0dedce90",
   "metadata": {},
   "outputs": [
    {
     "name": "stdout",
     "output_type": "stream",
     "text": [
      "False\n",
      "True\n"
     ]
    }
   ],
   "source": [
    "# File: OO_LightSwitch_with_Test_Code\n",
    "\n",
    "class LightSwitch():\n",
    "    def __init__(self):\n",
    "        self.switchIsOn = False\n",
    "    \n",
    "    def turnOn(self):\n",
    "        # turn the switch on\n",
    "        self.switchIsOn = True\n",
    "    \n",
    "    def turnOff(self):\n",
    "        # turn the switch off\n",
    "        self.switchIsOn = False\n",
    "        \n",
    "    def show(self):\n",
    "        # for testing\n",
    "        print(self.switchIsOn)\n",
    "        \n",
    "# Main code\n",
    "oLightSwitch = LightSwitch() # create a LightSwitch object\n",
    "\n",
    "# Calls to methods\n",
    "oLightSwitch.show() #off by default\n",
    "\n",
    "oLightSwitch.turnOn() #turn it on\n",
    "oLightSwitch.show() #returns true"
   ]
  },
  {
   "cell_type": "markdown",
   "id": "1815c829",
   "metadata": {},
   "source": [
    "### Creating multiple instances from the same class\n",
    "\n",
    "Key idea: each object gets its own set of any instance variables defined in the class. Huge improvement over having two global variables."
   ]
  },
  {
   "cell_type": "code",
   "execution_count": 8,
   "id": "5d0bdad7",
   "metadata": {},
   "outputs": [
    {
     "name": "stdout",
     "output_type": "stream",
     "text": [
      "False\n",
      "False\n",
      "True\n",
      "False\n"
     ]
    }
   ],
   "source": [
    "# Create class\n",
    "class LightSwitch():\n",
    "    def __init__(self):\n",
    "        self.switchIsOn = False\n",
    "        \n",
    "    def turnOn(self):\n",
    "        self.switchIsOn = True\n",
    "        \n",
    "    def turnOff(self):\n",
    "        self.switchIsOn = False\n",
    "    \n",
    "    def show(self):\n",
    "        print(self.switchIsOn)\n",
    "\n",
    "# Create instances\n",
    "oLightSwitch1 = LightSwitch() # create a light switch object\n",
    "oLightSwitch2 = LightSwitch() # create another light switch object\n",
    "\n",
    "# TEST code\n",
    "oLightSwitch1.show()\n",
    "oLightSwitch2.show()\n",
    "oLightSwitch1.turnOn() # Turn switch 1 on\n",
    "\n",
    "# Switch 2 should be off at start\n",
    "oLightSwitch2.turnOff()\n",
    "oLightSwitch1.show()\n",
    "oLightSwitch2.show()"
   ]
  },
  {
   "cell_type": "markdown",
   "id": "17c2f3a7",
   "metadata": {},
   "source": [
    "### Python Data Types Are Implemented as Classes "
   ]
  },
  {
   "cell_type": "code",
   "execution_count": 12,
   "id": "38607dbe",
   "metadata": {},
   "outputs": [
    {
     "name": "stdout",
     "output_type": "stream",
     "text": [
      "<class 'str'>\n",
      "ABCDE\n",
      "abcde\n",
      "abcde\n"
     ]
    }
   ],
   "source": [
    "myString = 'abcde'\n",
    "print(type(myString))\n",
    "\n",
    "# str class gives us a number of methods we can call with strings\n",
    "print(myString.upper())\n",
    "print(myString.lower())\n",
    "print(myString.strip())"
   ]
  },
  {
   "cell_type": "code",
   "execution_count": 20,
   "id": "1f120d75",
   "metadata": {},
   "outputs": [
    {
     "name": "stdout",
     "output_type": "stream",
     "text": [
      "<class 'list'>\n"
     ]
    }
   ],
   "source": [
    "myList = [10,20,30,40]\n",
    "print(type(myList))"
   ]
  },
  {
   "cell_type": "markdown",
   "id": "1f7256ce",
   "metadata": {},
   "source": [
    "### Definition of an Object\n",
    "\n",
    "object = Data, plus code that acts on that data, over time"
   ]
  },
  {
   "cell_type": "markdown",
   "id": "6f29d9c5",
   "metadata": {},
   "source": [
    "### Building a slightly more complicated class"
   ]
  },
  {
   "cell_type": "code",
   "execution_count": 29,
   "id": "72750e37",
   "metadata": {},
   "outputs": [],
   "source": [
    "# DimmerSwitch class\n",
    "\n",
    "class DimmerSwitch():\n",
    "    def __init__(self):\n",
    "        self.switchIsOn = False #instance 1\n",
    "        self.brightness = 0 #instance 2\n",
    "        \n",
    "    def turnOn(self):\n",
    "        self.switchIsOn = True\n",
    "        \n",
    "    def turnOff(self):\n",
    "        self.switchIsOn = False\n",
    "    \n",
    "    def raiseLevel(self):\n",
    "        if self.brightness < 10:\n",
    "            self.brightness = self.brightness + 1\n",
    "    \n",
    "    def lowerLevel(self):\n",
    "        if self.brightness > 0:\n",
    "            self.brightness = self.brightness - 1\n",
    "   \n",
    "    # Extra method for debugging\n",
    "    def show(self):\n",
    "        print('Switch is on?', self.switchIsOn)\n",
    "        print('Brightness is:', self.brightness)"
   ]
  },
  {
   "cell_type": "code",
   "execution_count": 35,
   "id": "fff07472",
   "metadata": {},
   "outputs": [
    {
     "name": "stdout",
     "output_type": "stream",
     "text": [
      "Switch is on? True\n",
      "Brightness is: 5\n",
      "Switch is on? False\n",
      "Brightness is: 3\n"
     ]
    }
   ],
   "source": [
    "# MAIN CODE\n",
    "oDimmer = DimmerSwitch()\n",
    "\n",
    "# Turn switch on, and raise the level 5 times\n",
    "oDimmer.turnOn()\n",
    "oDimmer.raiseLevel()\n",
    "oDimmer.raiseLevel()\n",
    "oDimmer.raiseLevel()\n",
    "oDimmer.raiseLevel()\n",
    "oDimmer.raiseLevel()\n",
    "oDimmer.show()\n",
    "\n",
    "# Lower the level 2 times, and turn switch off\n",
    "oDimmer.lowerLevel()\n",
    "oDimmer.lowerLevel()\n",
    "oDimmer.turnOff()\n",
    "oDimmer.show()"
   ]
  },
  {
   "cell_type": "markdown",
   "id": "d2f75933",
   "metadata": {},
   "source": [
    "### Representing a more complicated physical object as a class.\n",
    "\n",
    "How arguments work in classes.\n",
    "\n",
    "TV design: (functions and data)\n",
    "- power (on & off)\n",
    "- volume (up & down)\n",
    "- mute (on & off)\n",
    "- get info\n",
    "- channel number (0-9)"
   ]
  },
  {
   "cell_type": "markdown",
   "id": "f9327d15",
   "metadata": {},
   "source": [
    "<b>Keep track of its state, a TV class would have to maintain the following data.</b>\n",
    "\n",
    "STATE:\n",
    "1. power state (on or off)\n",
    "2. mute state (is it muted?)\n",
    "3. list of channels available\n",
    "4. current channel setting\n",
    "5. current volume setting\n",
    "6. range of vol. levels available\n",
    "\n",
    "ACTIONS:\n",
    "1. turn the power on and off\n",
    "2. raise and lower the volume\n",
    "3. change the channel up and down\n",
    "4. mute and unmute the sound\n",
    "5. get info about current settings\n",
    "6. go to a specific channel"
   ]
  },
  {
   "cell_type": "code",
   "execution_count": 39,
   "id": "cf3e351b",
   "metadata": {},
   "outputs": [],
   "source": [
    "# TV Class\n",
    "\n",
    "class TV():\n",
    "    def __init__(self):\n",
    "        self.isOn = False\n",
    "        self.isMuted = False\n",
    "        # Some default list of channels\n",
    "        self.channelList = [2, 4, 5, 7, 9, 11, 20, 36, 44,54, 65]\n",
    "        self.nChannels = len(self.channelList)\n",
    "        self.channelIndex = 0\n",
    "        self.VOLUME_MINIMUM = 0 # constant\n",
    "        self.VOLUME_MAXIMUM = 10 # constant\n",
    "        self.volume = self.VOLUME_MAXIMUM # integer divide\n",
    "        \n",
    "    def power(self):\n",
    "        self.isOn = not self.isOn # toggle: boolean to rep. one of two states\n",
    "        \n",
    "    def volumeUp(self):\n",
    "        if not self.isOn:\n",
    "            return\n",
    "        if self.isMuted:\n",
    "            self.isMuted = False # changing the volume while muted unmutes the sound\n",
    "        if self.volume < self.VOLUME_MAXIMUM:\n",
    "            self.volume = self.volume + 1\n",
    "            \n",
    "    def volumeDown(self):\n",
    "        if not self.isOn:\n",
    "            return\n",
    "        if self.isMuted:\n",
    "            self.isMuted = False # changing the volume while muted unmutes the sound\n",
    "        if  self.volume > self.VOLUME_MINIMUM:\n",
    "            self.volume = self.volume -1\n",
    "            \n",
    "    def channelUp(self):\n",
    "        if not self.isOn:\n",
    "            return\n",
    "        self.channelIndex = self.channelIndex + 1\n",
    "        if self.channelIndex > self.nChannels:\n",
    "            self.channelIndex = 0 # wrap around to the first channel\n",
    "            \n",
    "    def channelDown(self):\n",
    "        if not self.isOn:\n",
    "            return\n",
    "        self.channelIndex = self.channelIndex - 1\n",
    "        if self.channelIndex < 0:\n",
    "            self.channelIndex = self.nChannels - 1 # wrap around the top channel\n",
    "            \n",
    "    def mute(self):\n",
    "        if not self.isOn: # first check if tv is on\n",
    "            return\n",
    "        self.isMuted = not self.isMuted\n",
    "        \n",
    "    def setChannel(self, newChannel):\n",
    "        if newChannel in self.channelList:\n",
    "            self.channelIndex = self.channelList.index(newChannel) # don't do annything if new channel not in the list\n",
    "            \n",
    "    def showInfo(self):\n",
    "        print()\n",
    "        print(f'TV status:')\n",
    "        if self.isOn:\n",
    "            print('    TV is: On')\n",
    "            print('    Channel is:', self.channelList[self.channelIndex])\n",
    "            if self.isMuted:\n",
    "                print('     Volume is:', self.volume, '(sound is muted)')\n",
    "            else:\n",
    "                print('     Volume is:', self.volume)\n",
    "        else:\n",
    "            print('    TV is: Off')\n",
    "        "
   ]
  },
  {
   "cell_type": "code",
   "execution_count": 68,
   "id": "ba848195",
   "metadata": {},
   "outputs": [
    {
     "name": "stdout",
     "output_type": "stream",
     "text": [
      "\n",
      "TV status:\n",
      "    TV is: On\n",
      "    Channel is: 2\n",
      "     Volume is: 10\n",
      "\n",
      "TV status:\n",
      "    TV is: On\n",
      "    Channel is: 5\n",
      "     Volume is: 10\n",
      "\n",
      "TV status:\n",
      "    TV is: Off\n",
      "\n",
      "TV status:\n",
      "    TV is: On\n",
      "    Channel is: 5\n",
      "     Volume is: 10\n",
      "\n",
      "TV status:\n",
      "    TV is: On\n",
      "    Channel is: 5\n",
      "     Volume is: 9 (sound is muted)\n",
      "\n",
      "TV status:\n",
      "    TV is: On\n",
      "    Channel is: 11\n",
      "     Volume is: 9\n"
     ]
    }
   ],
   "source": [
    "# main code\n",
    "oTV = TV()\n",
    "\n",
    "# Turn the TV on and show the status\n",
    "oTV.power()\n",
    "oTV.showInfo()\n",
    "\n",
    "# Change the channel up twice, raise the vol twice, show status\n",
    "oTV.channelUp()\n",
    "oTV.channelUp()\n",
    "oTV.volumeUp()\n",
    "oTV.volumeUp()\n",
    "oTV.showInfo()\n",
    "\n",
    "# Turn the TV off, show status, turn the TV on, show status\n",
    "oTV.power()\n",
    "oTV.showInfo()\n",
    "oTV.power()\n",
    "oTV.showInfo()\n",
    "\n",
    "# Lower the vol, mute the sound, show status\n",
    "oTV.volumeDown()\n",
    "oTV.mute()\n",
    "oTV.showInfo()\n",
    "\n",
    "# Change the channel to 11, mute the sound, show status\n",
    "oTV.setChannel(11)\n",
    "oTV.mute()\n",
    "oTV.showInfo()"
   ]
  },
  {
   "cell_type": "markdown",
   "id": "c96dc095",
   "metadata": {},
   "source": [
    "<b> Multiple Instances\n",
    "\n",
    "self as the first parameter allows any method within a class to work to different objects."
   ]
  },
  {
   "cell_type": "markdown",
   "id": "877c96a2",
   "metadata": {},
   "source": [
    "# Summary\n",
    "\n",
    "OOP as a solution.\n",
    "- classes are reusable in many different programs: classes do not need to access global data. Objects provide code and data at the same level.\n",
    "- easier to debug: class framework allows data and code to act on the data exist in one grouping.\n",
    "- objects created from a class only have access to their own data (their set of instance var in the class)"
   ]
  }
 ],
 "metadata": {
  "kernelspec": {
   "display_name": "Python 3 (ipykernel)",
   "language": "python",
   "name": "python3"
  },
  "language_info": {
   "codemirror_mode": {
    "name": "ipython",
    "version": 3
   },
   "file_extension": ".py",
   "mimetype": "text/x-python",
   "name": "python",
   "nbconvert_exporter": "python",
   "pygments_lexer": "ipython3",
   "version": "3.8.8"
  },
  "toc": {
   "base_numbering": 1,
   "nav_menu": {},
   "number_sections": true,
   "sideBar": false,
   "skip_h1_title": false,
   "title_cell": "Table of Contents",
   "title_sidebar": "Contents",
   "toc_cell": false,
   "toc_position": {
    "height": "100px",
    "left": "26px",
    "top": "111.141px",
    "width": "165px"
   },
   "toc_section_display": true,
   "toc_window_display": true
  },
  "varInspector": {
   "cols": {
    "lenName": 16,
    "lenType": 16,
    "lenVar": 40
   },
   "kernels_config": {
    "python": {
     "delete_cmd_postfix": "",
     "delete_cmd_prefix": "del ",
     "library": "var_list.py",
     "varRefreshCmd": "print(var_dic_list())"
    },
    "r": {
     "delete_cmd_postfix": ") ",
     "delete_cmd_prefix": "rm(",
     "library": "var_list.r",
     "varRefreshCmd": "cat(var_dic_list()) "
    }
   },
   "types_to_exclude": [
    "module",
    "function",
    "builtin_function_or_method",
    "instance",
    "_Feature"
   ],
   "window_display": false
  }
 },
 "nbformat": 4,
 "nbformat_minor": 5
}
