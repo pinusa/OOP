{
 "cells": [
  {
   "cell_type": "code",
   "execution_count": 4,
   "id": "a1be2be5",
   "metadata": {},
   "outputs": [],
   "source": [
    "# Account Class\n",
    "\n",
    "# Initialize variables for name, password, balance\n",
    "class Account():\n",
    "    def __init__(self, name, password, balance):\n",
    "        self.name = name\n",
    "        self.password = password\n",
    "        self.balance = int(balance)\n",
    "    \n",
    "    # Build methods to implement each of the operations.\n",
    "    def deposit(self, amountToDeposit, password):\n",
    "        if password != self.password:\n",
    "            print('Sorry, incorrect password')\n",
    "            return None\n",
    "        if amountToDeposit < 0:\n",
    "            print('You cannot deposit a negative amount')\n",
    "            return None\n",
    "        self.balance = self.balance + amountToDeposit\n",
    "        return self.balance\n",
    "    \n",
    "    def withdraw(self, amountToWithdraw, password):\n",
    "        if password != self.password:\n",
    "            print('Incorrect password for this account')\n",
    "            return None\n",
    "        if amountToWithdraw < 0:\n",
    "            print('You cannot withdraw a negative amount')\n",
    "            return None\n",
    "        if amountToWithdraw > self.balance:\n",
    "            print('You cannot withdraw more than you have in your account.')\n",
    "            return None\n",
    "        self.balance = self.balance - amountToWithdraw\n",
    "        return self.balance\n",
    "    \n",
    "    def getBalance(self, password):\n",
    "        if password != self.password:\n",
    "            print('Sorry, incorrect password')\n",
    "            return None\n",
    "        return self.balance\n",
    "    \n",
    "    # Added for debugging\n",
    "    def show(self):\n",
    "        print(f'    Name:{self.name}')\n",
    "        print(f'    Balance:{self.balance}')\n",
    "        print(f'    Password:{self.password}')\n",
    "        print()"
   ]
  }
 ],
 "metadata": {
  "kernelspec": {
   "display_name": "Python 3 (ipykernel)",
   "language": "python",
   "name": "python3"
  },
  "language_info": {
   "codemirror_mode": {
    "name": "ipython",
    "version": 3
   },
   "file_extension": ".py",
   "mimetype": "text/x-python",
   "name": "python",
   "nbconvert_exporter": "python",
   "pygments_lexer": "ipython3",
   "version": "3.8.8"
  },
  "toc": {
   "base_numbering": 1,
   "nav_menu": {},
   "number_sections": true,
   "sideBar": false,
   "skip_h1_title": false,
   "title_cell": "Table of Contents",
   "title_sidebar": "Contents",
   "toc_cell": false,
   "toc_position": {
    "height": "100px",
    "left": "37px",
    "top": "111.141px",
    "width": "165px"
   },
   "toc_section_display": true,
   "toc_window_display": true
  },
  "varInspector": {
   "cols": {
    "lenName": 16,
    "lenType": 16,
    "lenVar": 40
   },
   "kernels_config": {
    "python": {
     "delete_cmd_postfix": "",
     "delete_cmd_prefix": "del ",
     "library": "var_list.py",
     "varRefreshCmd": "print(var_dic_list())"
    },
    "r": {
     "delete_cmd_postfix": ") ",
     "delete_cmd_prefix": "rm(",
     "library": "var_list.r",
     "varRefreshCmd": "cat(var_dic_list()) "
    }
   },
   "types_to_exclude": [
    "module",
    "function",
    "builtin_function_or_method",
    "instance",
    "_Feature"
   ],
   "window_display": false
  }
 },
 "nbformat": 4,
 "nbformat_minor": 5
}
